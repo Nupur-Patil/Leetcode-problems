{
 "cells": [
  {
   "cell_type": "markdown",
   "metadata": {},
   "source": [
    "# Median of Two Sorted Arrays"
   ]
  },
  {
   "cell_type": "markdown",
   "metadata": {},
   "source": [
    "Given two sorted arrays nums1 and nums2 of size m and n respectively, return the median of the two sorted arrays."
   ]
  },
  {
   "cell_type": "raw",
   "metadata": {},
   "source": [
    "Example 1:\n",
    "\n",
    "Input: nums1 = [1,3], nums2 = [2]\n",
    "Output: 2.00000\n",
    "Explanation: merged array = [1,2,3] and median is 2.\n",
    "Example 2:\n",
    "\n",
    "Input: nums1 = [1,2], nums2 = [3,4]\n",
    "Output: 2.50000\n",
    "Explanation: merged array = [1,2,3,4] and median is (2 + 3) / 2 = 2.5."
   ]
  },
  {
   "cell_type": "code",
   "execution_count": 42,
   "metadata": {},
   "outputs": [],
   "source": [
    "import math\n",
    "import statistics\n",
    "nums1 = [1,3]\n",
    "nums2 = [2,4]"
   ]
  },
  {
   "cell_type": "code",
   "execution_count": 43,
   "metadata": {},
   "outputs": [],
   "source": [
    "nums1 = nums1 + nums2\n",
    "# nums1 = sorted(nums1)\n",
    "# print(nums1)"
   ]
  },
  {
   "cell_type": "code",
   "execution_count": 44,
   "metadata": {},
   "outputs": [
    {
     "data": {
      "text/plain": [
       "[1, 2, 3, 4]"
      ]
     },
     "execution_count": 44,
     "metadata": {},
     "output_type": "execute_result"
    }
   ],
   "source": [
    "nums1.sort()\n",
    "nums1"
   ]
  },
  {
   "cell_type": "code",
   "execution_count": 45,
   "metadata": {},
   "outputs": [
    {
     "data": {
      "text/plain": [
       "2"
      ]
     },
     "execution_count": 45,
     "metadata": {},
     "output_type": "execute_result"
    }
   ],
   "source": [
    "math.floor(len(nums1)/2)"
   ]
  },
  {
   "cell_type": "code",
   "execution_count": 47,
   "metadata": {},
   "outputs": [
    {
     "data": {
      "text/plain": [
       "2.5"
      ]
     },
     "execution_count": 47,
     "metadata": {},
     "output_type": "execute_result"
    }
   ],
   "source": [
    "def median(nums):\n",
    "    if len(nums)%2 == 1:\n",
    "        return nums1[math.floor(len(nums1)/2)]\n",
    "    else:\n",
    "        two_nums = [nums1[math.floor(len(nums1)/2)], nums1[math.floor(len(nums1)/2)-1]]\n",
    "        return statistics.mean(two_nums)\n",
    "median(nums1)"
   ]
  },
  {
   "cell_type": "markdown",
   "metadata": {},
   "source": [
    "This solution does not have the complexity of O(log (m+n)) since merging and sorting the arrays takes much longer. Binary search would make this faster but not explored here."
   ]
  },
  {
   "cell_type": "markdown",
   "metadata": {},
   "source": [
    "# Longest Substring Without Repeating Characters"
   ]
  },
  {
   "cell_type": "markdown",
   "metadata": {},
   "source": [
    "Given a string s, find the length of the longest substring without duplicate characters."
   ]
  },
  {
   "cell_type": "raw",
   "metadata": {},
   "source": [
    "Example 1:\n",
    "\n",
    "Input: s = \"abcabcbb\"\n",
    "Output: 3\n",
    "Explanation: The answer is \"abc\", with the length of 3.\n",
    "Example 2:\n",
    "\n",
    "Input: s = \"bbbbb\"\n",
    "Output: 1\n",
    "Explanation: The answer is \"b\", with the length of 1.\n",
    "Example 3:\n",
    "\n",
    "Input: s = \"pwwkew\"\n",
    "Output: 3\n",
    "Explanation: The answer is \"wke\", with the length of 3.\n",
    "Notice that the answer must be a substring, \"pwke\" is a subsequence and not a substring."
   ]
  },
  {
   "cell_type": "code",
   "execution_count": 126,
   "metadata": {},
   "outputs": [],
   "source": [
    "s = \"ppwkeewsk\""
   ]
  },
  {
   "cell_type": "code",
   "execution_count": 127,
   "metadata": {},
   "outputs": [
    {
     "data": {
      "text/plain": [
       "3"
      ]
     },
     "execution_count": 127,
     "metadata": {},
     "output_type": "execute_result"
    }
   ],
   "source": [
    "end = [1,2,3]\n",
    "end[-1]"
   ]
  },
  {
   "cell_type": "markdown",
   "metadata": {},
   "source": [
    "This finction gives longest first substring"
   ]
  },
  {
   "cell_type": "code",
   "execution_count": 128,
   "metadata": {},
   "outputs": [
    {
     "data": {
      "text/plain": [
       "(1, 'p')"
      ]
     },
     "execution_count": 128,
     "metadata": {},
     "output_type": "execute_result"
    }
   ],
   "source": [
    "def first_substr(s):\n",
    "    chars = 1\n",
    "    for index, char in enumerate(s):\n",
    "#         print('index', index, 'chars', chars)\n",
    "        if index == 0:\n",
    "            continue\n",
    "        else:\n",
    "            for index2,char2 in enumerate(s[:index]):\n",
    "                if s[index] == s[index2]:\n",
    "                    return chars, s[:chars]\n",
    "            chars += 1\n",
    "    return s, len(s)\n",
    "#             print(chars)\n",
    "first_substr(s)"
   ]
  },
  {
   "cell_type": "markdown",
   "metadata": {},
   "source": [
    "Created this function that makes pieces of the main string but this solution doesn't work correctly for \"pwwkew\""
   ]
  },
  {
   "cell_type": "code",
   "execution_count": 130,
   "metadata": {},
   "outputs": [
    {
     "data": {
      "text/plain": [
       "([0, 1, 5], [0, 4, 8])"
      ]
     },
     "execution_count": 130,
     "metadata": {},
     "output_type": "execute_result"
    }
   ],
   "source": [
    "def longest_substr(s):\n",
    "    beg = [0]\n",
    "    end = []\n",
    "    l = len(s)\n",
    "    for index, char in enumerate(s):\n",
    "        if index == 0:\n",
    "            continue\n",
    "        else:\n",
    "            for index2,char2 in enumerate(s[beg[-1]:index]):\n",
    "                index2 = index2 + beg[-1]\n",
    "#                 print(s[index],s[index2])\n",
    "                if s[index] == s[index2]:\n",
    "                    end.append(index2)\n",
    "                    beg.append(index2 + 1)\n",
    "#                     print('Appending', index2, index2+1)\n",
    "    end.append(l-1)\n",
    "    return beg, end\n",
    "longest_substr(s)"
   ]
  },
  {
   "cell_type": "markdown",
   "metadata": {},
   "source": [
    "Learning the correct sliding window method"
   ]
  },
  {
   "cell_type": "code",
   "execution_count": 145,
   "metadata": {},
   "outputs": [
    {
     "name": "stdout",
     "output_type": "stream",
     "text": [
      "The length of the longest unique substring is abc of length 3\n"
     ]
    }
   ],
   "source": [
    "def find_longest_unique_substring_simple(s: str) -> int:\n",
    "    max_length = 0\n",
    "    beg = 0\n",
    "    for left in range(len(s)):\n",
    "        # Use a set to store characters in the current substring\n",
    "        seen_chars = set()\n",
    "        \n",
    "        for right in range(left, len(s)):\n",
    "            current_char = s[right]\n",
    "            \n",
    "            # If the character is already in the set, this substring is not unique\n",
    "            if current_char in seen_chars:\n",
    "                break\n",
    "            else:\n",
    "                seen_chars.add(current_char)\n",
    "                # The substring from left to right is unique\n",
    "                current_length = right - left + 1\n",
    "                if current_length > max_length:\n",
    "                    max_length = current_length\n",
    "                    beg = left\n",
    "                    \n",
    "    return max_length, beg\n",
    "\n",
    "# Example usage:\n",
    "string = \"babcabcbb\"\n",
    "length, index = find_longest_unique_substring_simple(string)\n",
    "print(f\"The length of the longest unique substring is {string[index: index + length]} of length {length}\") # Output: 3"
   ]
  },
  {
   "cell_type": "code",
   "execution_count": null,
   "metadata": {},
   "outputs": [],
   "source": []
  },
  {
   "cell_type": "code",
   "execution_count": null,
   "metadata": {},
   "outputs": [],
   "source": []
  }
 ],
 "metadata": {
  "kernelspec": {
   "display_name": "Python 3",
   "language": "python",
   "name": "python3"
  },
  "language_info": {
   "codemirror_mode": {
    "name": "ipython",
    "version": 3
   },
   "file_extension": ".py",
   "mimetype": "text/x-python",
   "name": "python",
   "nbconvert_exporter": "python",
   "pygments_lexer": "ipython3",
   "version": "3.8.5"
  }
 },
 "nbformat": 4,
 "nbformat_minor": 4
}
