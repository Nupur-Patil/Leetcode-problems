{
 "cells": [
  {
   "cell_type": "markdown",
   "metadata": {},
   "source": [
    "# Valid Triangle Number"
   ]
  },
  {
   "cell_type": "markdown",
   "metadata": {},
   "source": [
    "Given an integer array nums, return the number of triplets chosen from the array that can make triangles if we take them as side lengths of a triangle."
   ]
  },
  {
   "cell_type": "raw",
   "metadata": {},
   "source": [
    "Example 1:\n",
    "\n",
    "Input: nums = [2,2,3,4]\n",
    "Output: 3\n",
    "Explanation: Valid combinations are: \n",
    "2,3,4 (using the first 2)\n",
    "2,3,4 (using the second 2)\n",
    "2,2,3\n",
    "Example 2:\n",
    "\n",
    "Input: nums = [4,2,3,4]\n",
    "Output: 4"
   ]
  },
  {
   "cell_type": "code",
   "execution_count": 81,
   "metadata": {},
   "outputs": [],
   "source": [
    "nums = [1,1,6,3,4,5]"
   ]
  },
  {
   "cell_type": "code",
   "execution_count": 69,
   "metadata": {},
   "outputs": [],
   "source": [
    "def valid_triangle(nums):\n",
    "    nums.sort()\n",
    "    num_tri = 0\n",
    "    tri = []\n",
    "    for first in range(len(nums)):\n",
    "        for index, second in enumerate(nums[first+1:]):\n",
    "            j = first + 1 + index\n",
    "            for third in nums[j+1:]:\n",
    "                combo = [nums[first], second, third]\n",
    "                if combo[2] < (combo[0] + combo[1]):\n",
    "                    tri.append(combo)\n",
    "                    num_tri += 1\n",
    "    return num_tri, tri"
   ]
  },
  {
   "cell_type": "code",
   "execution_count": 70,
   "metadata": {},
   "outputs": [
    {
     "name": "stdout",
     "output_type": "stream",
     "text": [
      "1 [[3, 4, 5]]\n"
     ]
    }
   ],
   "source": [
    "num_tri, tri = valid_triangle(nums)\n",
    "print(num_tri, tri)"
   ]
  },
  {
   "cell_type": "code",
   "execution_count": null,
   "metadata": {},
   "outputs": [],
   "source": []
  },
  {
   "cell_type": "code",
   "execution_count": 71,
   "metadata": {},
   "outputs": [
    {
     "data": {
      "text/plain": [
       "2"
      ]
     },
     "execution_count": 71,
     "metadata": {},
     "output_type": "execute_result"
    }
   ],
   "source": [
    "a = range(4 - 1, 1, -1)\n",
    "a[1]"
   ]
  },
  {
   "cell_type": "markdown",
   "metadata": {},
   "source": [
    "Trying the 2 pointer method which has the complexity of O(Nsquared) instead of O(Ncubed)"
   ]
  },
  {
   "cell_type": "code",
   "execution_count": 84,
   "metadata": {},
   "outputs": [],
   "source": [
    "def valid_triangle_eff(nums):\n",
    "    nums.sort()\n",
    "    n = len(nums)\n",
    "    count = 0\n",
    "#     combo = []\n",
    "    for k in range(n-1, 1, -1):\n",
    "        j = k-1\n",
    "        i = 0\n",
    "        while i < j:\n",
    "            if nums[k] < nums[i] + nums[j]:\n",
    "                count += (j-i)\n",
    "#                 combo.append([nums[i], nums[j], nums[k]])\n",
    "                j -= 1\n",
    "                \n",
    "            else:\n",
    "                i += 1\n",
    "    return count"
   ]
  },
  {
   "cell_type": "code",
   "execution_count": 85,
   "metadata": {},
   "outputs": [
    {
     "data": {
      "text/plain": [
       "4"
      ]
     },
     "execution_count": 85,
     "metadata": {},
     "output_type": "execute_result"
    }
   ],
   "source": [
    "valid_triangle_eff(nums)\n"
   ]
  },
  {
   "cell_type": "markdown",
   "metadata": {},
   "source": [
    "The combo list part doesnt work properly since fixing that would make the complexity back to Ncubed"
   ]
  },
  {
   "cell_type": "markdown",
   "metadata": {},
   "source": [
    "# Longest palindromic string"
   ]
  },
  {
   "cell_type": "markdown",
   "metadata": {},
   "source": [
    "Given a string s, return the longest palindromic substring in s."
   ]
  },
  {
   "cell_type": "raw",
   "metadata": {},
   "source": [
    "Example 1:\n",
    "\n",
    "Input: s = \"babad\"\n",
    "Output: \"bab\"\n",
    "Explanation: \"aba\" is also a valid answer.\n",
    "Example 2:\n",
    "\n",
    "Input: s = \"cbbd\"\n",
    "Output: \"bb\""
   ]
  },
  {
   "cell_type": "code",
   "execution_count": 105,
   "metadata": {},
   "outputs": [],
   "source": [
    "import math\n",
    "def palindrome(s):\n",
    "    max_len = 1\n",
    "    n = len(s)\n",
    "    for left in range(len(s)):\n",
    "        for right in range(n-1, left, -1):\n",
    "            l = right - left + 1\n",
    "            a = s[left:right+1]\n",
    "            print(a)\n",
    "            if a == a[::-1]:\n",
    "                max_len = max(max_len, l)\n",
    "                print(max_len)\n",
    "    return max_len"
   ]
  },
  {
   "cell_type": "code",
   "execution_count": 108,
   "metadata": {},
   "outputs": [
    {
     "name": "stdout",
     "output_type": "stream",
     "text": [
      "cababa\n",
      "cabab\n",
      "caba\n",
      "cab\n",
      "ca\n",
      "ababa\n",
      "5\n",
      "abab\n",
      "aba\n",
      "5\n",
      "ab\n",
      "baba\n",
      "bab\n",
      "5\n",
      "ba\n",
      "aba\n",
      "5\n",
      "ab\n",
      "ba\n"
     ]
    },
    {
     "data": {
      "text/plain": [
       "5"
      ]
     },
     "execution_count": 108,
     "metadata": {},
     "output_type": "execute_result"
    }
   ],
   "source": [
    "palindrome(s)"
   ]
  },
  {
   "cell_type": "code",
   "execution_count": 107,
   "metadata": {},
   "outputs": [
    {
     "data": {
      "text/plain": [
       "'c'"
      ]
     },
     "execution_count": 107,
     "metadata": {},
     "output_type": "execute_result"
    }
   ],
   "source": [
    "s = \"cababa\""
   ]
  },
  {
   "cell_type": "code",
   "execution_count": null,
   "metadata": {},
   "outputs": [],
   "source": []
  }
 ],
 "metadata": {
  "kernelspec": {
   "display_name": "Python 3",
   "language": "python",
   "name": "python3"
  },
  "language_info": {
   "codemirror_mode": {
    "name": "ipython",
    "version": 3
   },
   "file_extension": ".py",
   "mimetype": "text/x-python",
   "name": "python",
   "nbconvert_exporter": "python",
   "pygments_lexer": "ipython3",
   "version": "3.8.5"
  }
 },
 "nbformat": 4,
 "nbformat_minor": 4
}
